{
 "cells": [
  {
   "cell_type": "markdown",
   "metadata": {},
   "source": [
    "# Bài tập"
   ]
  },
  {
   "cell_type": "markdown",
   "metadata": {},
   "source": [
    "**Bài 04:** Một bài thi trắc nghiệm gồm 10 câu hỏi, mỗi câu có 4 phương án trả lời trong đó chỉ có một phương án đúng. Giả sử mỗi câu đúng được 4 điểm, mỗi câu sai bị trừ 2 điểm. Một sinh viên không học bài làm bài bằng cách chọn ngẫu nhiên một phương án cho mỗi câu hỏi.\n",
    "Tính xác suất để sinh viên này được 4 điểm\n",
    "Tính xác suất để sinh viên này bị điểm âm\n",
    "Gọi X là số câu trả lời đúng. Tính E(X) và Var(X)"
   ]
  },
  {
   "cell_type": "markdown",
   "metadata": {},
   "source": [
    "**Thu Hà**\n",
    "\n",
    "đề thi 10 câu (mỗi câu có 4 phương án), câu đúng: 4đ, câu sai: 2đ.\n",
    "\n",
    "Tính xác suất sinh viên này được 4 điểm?.\n",
    "\n",
    "Giả sử số câu đúng là a câu => số câu sai: 10-a câu\n",
    "\n",
    "Vì bạn đạt được 4 điểm nên:\n",
    "\n",
    "$$4a - 2.(10-a) = 4$$\n",
    "\n",
    "$$6a - 20 = 4$$\n",
    "\n",
    "$$a = 4$$\n",
    "\n",
    "Vậy bạn được 4 điểm khi số câu đúng là 4.\n",
    "\n",
    "Cần tính XS số câu đúng là 4 câu?\n",
    "Giả sử X là biến ngẫu nhiên thể hiện số câu đúng.\n",
    "\n",
    "Cần tính P(X = 4) = ?\n",
    "\n",
    "**Cách 1**\n",
    "Xác suất đúng 1 câu: p = 0.25\n",
    "Xác suất sai 1 câu: 0.75\n",
    "\n",
    "$P(X=4) = C(10, 4) * 0.25^4 * 0.75^6$\n",
    "\n",
    "**Cách 2**\n",
    "X có phân phối nhị thức. Ký hiệu: X ~ B(10, 0.25)\n",
    "\n",
    "$P(X = k) = C(n, k) * p^k * (1-p)^{n-k}$\n",
    "\n",
    "k = 0..10\n",
    "\n",
    "P(X = 0) + P(X = 1) + ... + P(X = 10) = 1"
   ]
  },
  {
   "cell_type": "markdown",
   "metadata": {},
   "source": [
    "Câu b: Xác suất sinh viên bị điểm âm\n",
    "\n",
    "$4a - 2(10-a) < 0$\n",
    "$6a - 20 < 0$\n",
    "$a < 3.3$\n",
    "\n",
    "=> a = 0, 1, 2, 3\n",
    "\n",
    "P(X <= 3)"
   ]
  },
  {
   "cell_type": "code",
   "execution_count": 10,
   "metadata": {},
   "outputs": [],
   "source": [
    "n, p = 10, 0.25"
   ]
  },
  {
   "cell_type": "code",
   "execution_count": 13,
   "metadata": {},
   "outputs": [
    {
     "name": "stdout",
     "output_type": "stream",
     "text": [
      "0.775875091552735\n"
     ]
    }
   ],
   "source": [
    "xs = 0\n",
    "for x in range(4):\n",
    "    xs += binom.pmf(x, n , p)\n",
    "print(xs)"
   ]
  },
  {
   "cell_type": "code",
   "execution_count": 14,
   "metadata": {},
   "outputs": [
    {
     "data": {
      "text/plain": [
       "0.7758750915527344"
      ]
     },
     "execution_count": 14,
     "metadata": {},
     "output_type": "execute_result"
    }
   ],
   "source": [
    "binom.cdf(3, n, p)"
   ]
  },
  {
   "cell_type": "markdown",
   "metadata": {},
   "source": [
    "Câu c: Tính Var(X)\n",
    "X ~ B(n, p)\n",
    "\n",
    "Var(X) = npq = n*p*(1-P"
   ]
  },
  {
   "cell_type": "code",
   "execution_count": 1,
   "metadata": {},
   "outputs": [
    {
     "name": "stderr",
     "output_type": "stream",
     "text": [
      "/Users/vinhlinh/Documents/VINHLINH/workspace/Practice/envPractice/lib/python3.8/site-packages/pandas/compat/__init__.py:120: UserWarning: Could not import the lzma module. Your installed Python is incomplete. Attempting to use lzma compression will result in a RuntimeError.\n",
      "  warnings.warn(msg)\n"
     ]
    }
   ],
   "source": [
    "# Import các thư viện thông dụng\n",
    "import numpy as np\n",
    "import pandas as pd\n",
    "import matplotlib.pyplot as plt\n",
    "\n",
    "# Import các distribution packages từ thư viện scipy\n",
    "from scipy.stats import binom\n",
    "from scipy.stats import poisson\n",
    "from scipy.stats import norm\n",
    "from scipy.stats import t"
   ]
  },
  {
   "cell_type": "code",
   "execution_count": 2,
   "metadata": {},
   "outputs": [
    {
     "data": {
      "text/plain": [
       "0.14599800109863295"
      ]
     },
     "execution_count": 2,
     "metadata": {},
     "output_type": "execute_result"
    }
   ],
   "source": [
    "# Tính P(X = 4)\n",
    "binom.pmf(4, n=10, p=0.25)"
   ]
  },
  {
   "cell_type": "code",
   "execution_count": 8,
   "metadata": {},
   "outputs": [
    {
     "data": {
      "text/plain": [
       "0.28156757354736334"
      ]
     },
     "execution_count": 8,
     "metadata": {},
     "output_type": "execute_result"
    }
   ],
   "source": [
    "# Tính P(X = 2)\n",
    "binom.pmf(2, n=10, p=0.25)"
   ]
  },
  {
   "cell_type": "markdown",
   "metadata": {},
   "source": [
    "Hàm phân phối xác suất F(x) = P(X <= x)\n",
    "\n",
    "X: số câu đúng\n",
    "F(4) = P(X <= 4) = P(X=0) + P(X=1) + P(X=2) + P(X=3) + P(X=4)"
   ]
  },
  {
   "cell_type": "markdown",
   "metadata": {},
   "source": [
    "**Bài 05:** Một trung tâm bưu điện nhận được 3 cuộc gọi điện thoại mỗi phút. Tính xác suất để trung tâm nhận được 1 cuộc gọi, 2 cuộc gọi, 3 cuộc gọi trong vòng một phút biết số cuộc gọi trong một phút có phân phối Poisson."
   ]
  },
  {
   "cell_type": "markdown",
   "metadata": {},
   "source": [
    "**Lường Văn Đạt**"
   ]
  },
  {
   "cell_type": "markdown",
   "metadata": {},
   "source": [
    "X là số cuộc gọi trong một phút. Theo đề X ~ $P(\\lambda)$\n",
    "\n",
    "$f(1) = P(X = 1) = 3^1. \\frac{e^{-3}}{1} = 0.149$\n",
    "\n",
    "$f(2) = P(X = 2) = 3^2. \\frac{e^{-3}}{2!} = 0.224$\n",
    "\n",
    "$f(3) = P(X = 3) = 3^3. \\frac{e^{-3}}{3!} = 0.224$"
   ]
  },
  {
   "cell_type": "code",
   "execution_count": 15,
   "metadata": {},
   "outputs": [
    {
     "data": {
      "text/plain": [
       "0.14936120510359185"
      ]
     },
     "execution_count": 15,
     "metadata": {},
     "output_type": "execute_result"
    }
   ],
   "source": [
    "poisson.pmf(1, 3)"
   ]
  },
  {
   "cell_type": "code",
   "execution_count": 16,
   "metadata": {},
   "outputs": [
    {
     "data": {
      "text/plain": [
       "0.22404180765538775"
      ]
     },
     "execution_count": 16,
     "metadata": {},
     "output_type": "execute_result"
    }
   ],
   "source": [
    "poisson.pmf(2, 3)"
   ]
  },
  {
   "cell_type": "code",
   "execution_count": 17,
   "metadata": {},
   "outputs": [
    {
     "data": {
      "text/plain": [
       "0.22404180765538775"
      ]
     },
     "execution_count": 17,
     "metadata": {},
     "output_type": "execute_result"
    }
   ],
   "source": [
    "poisson.pmf(3, 3)"
   ]
  },
  {
   "cell_type": "markdown",
   "metadata": {},
   "source": [
    "**Bài 10:** Trọng lượng (đơn vị gam) của một loại trái cây có phân phối chuẩn với µ = 500 (gam) gam và $σ^2 = 16 (gam^2)$. Trái cây thu hoạch được phân loại theo trọng lượng như sau:\n",
    "\n",
    "Loại 1: trên 505 gam\n",
    "\n",
    "Loại 2: từ 495 – 505 gam\n",
    "\n",
    "Loại 3: dười 495 gam\n",
    "\n",
    "Hãy tính tỷ lệ của mỗi loại."
   ]
  },
  {
   "cell_type": "markdown",
   "metadata": {},
   "source": [
    "Tấn Lĩnh\n",
    "\n",
    "Gọi X là trọng lượng của loại trái cây đó:\n",
    "\n",
    "X có phân phối chuẩn, X ~ N(500, 4)\n",
    " \n",
    "a. P(X > 505)\n",
    "\n",
    "b. P(495 <= X <= 505)\n",
    "\n",
    "c. P(X <= 495)"
   ]
  },
  {
   "cell_type": "code",
   "execution_count": 21,
   "metadata": {},
   "outputs": [
    {
     "data": {
      "image/png": "[encoded data removed]",
      "text/plain": [
       "<Figure size 432x288 with 1 Axes>"
      ]
     },
     "metadata": {
      "needs_background": "light"
     },
     "output_type": "display_data"
    }
   ],
   "source": [
    "x = np.linspace(450, 550, 100)\n",
    "y1 = norm.pdf(x, loc=500, scale=4)\n",
    "\n",
    "plt.plot(x, y1, label='$\\mu=500, \\sigma=4$')\n",
    "\n",
    "plt.title('HÀM MẬT ĐỘ PHÂN PHỐI CHUẨN')\n",
    "plt.legend()\n",
    "plt.show()"
   ]
  },
  {
   "cell_type": "code",
   "execution_count": 24,
   "metadata": {},
   "outputs": [
    {
     "data": {
      "text/plain": [
       "0.10564977366685535"
      ]
     },
     "execution_count": 24,
     "metadata": {},
     "output_type": "execute_result"
    }
   ],
   "source": [
    "# Câu a P(X > 505)\n",
    "1 - norm.cdf(505, loc=500, scale=4)"
   ]
  },
  {
   "cell_type": "code",
   "execution_count": 23,
   "metadata": {},
   "outputs": [
    {
     "data": {
      "text/plain": [
       "0.10564977366685535"
      ]
     },
     "execution_count": 23,
     "metadata": {},
     "output_type": "execute_result"
    }
   ],
   "source": [
    "norm.sf(505, loc=500, scale=4)"
   ]
  },
  {
   "cell_type": "code",
   "execution_count": 25,
   "metadata": {},
   "outputs": [
    {
     "data": {
      "text/plain": [
       "0.7887004526662893"
      ]
     },
     "execution_count": 25,
     "metadata": {},
     "output_type": "execute_result"
    }
   ],
   "source": [
    "# Câu b P(405 < X < 505)\n",
    "norm.cdf(505, loc=500, scale=4) - norm.cdf(495, loc=500, scale=4)"
   ]
  },
  {
   "cell_type": "code",
   "execution_count": 26,
   "metadata": {},
   "outputs": [
    {
     "data": {
      "text/plain": [
       "0.10564977366685535"
      ]
     },
     "execution_count": 26,
     "metadata": {},
     "output_type": "execute_result"
    }
   ],
   "source": [
    "# Câu c P(X < 495)\n",
    "norm.cdf(495, loc=500, scale=4)"
   ]
  },
  {
   "cell_type": "code",
   "execution_count": 18,
   "metadata": {},
   "outputs": [
    {
     "name": "stdout",
     "output_type": "stream",
     "text": [
      "0.10564977366685535\n",
      "0.7887004526662893\n",
      "0.10564977366685535\n"
     ]
    }
   ],
   "source": [
    "# from scipy.stats import norm\n",
    "mu=500\n",
    "sigma = 4\n",
    "\n",
    "# a/ Loại 1: trên 505 gam\n",
    "a = 1-norm.cdf((505-mu)/sigma, loc=0, scale=1)\n",
    "print (a)\n",
    "\n",
    "# b/ Loại 2: từ 495 – 505 gam\n",
    "b = norm.cdf((505-mu)/sigma) - norm.cdf((495-mu)/4)\n",
    "print (b)\n",
    "\n",
    "# c/ Loại 3: dười 495 gam\n",
    "c = norm.cdf((495-mu)/sigma)\n",
    "print (c)"
   ]
  },
  {
   "cell_type": "code",
   "execution_count": 29,
   "metadata": {},
   "outputs": [
    {
     "data": {
      "text/plain": [
       "0.10564977366685535"
      ]
     },
     "execution_count": 29,
     "metadata": {},
     "output_type": "execute_result"
    }
   ],
   "source": [
    "1-norm.cdf((505-mu)/sigma)"
   ]
  },
  {
   "cell_type": "code",
   "execution_count": null,
   "metadata": {},
   "outputs": [],
   "source": []
  }
 ],
 "metadata": {
  "kernelspec": {
   "display_name": "Python 3",
   "language": "python",
   "name": "python3"
  },
  "language_info": {
   "codemirror_mode": {
    "name": "ipython",
    "version": 3
   },
   "file_extension": ".py",
   "mimetype": "text/x-python",
   "name": "python",
   "nbconvert_exporter": "python",
   "pygments_lexer": "ipython3",
   "version": "3.8.2"
  }
 },
 "nbformat": 4,
 "nbformat_minor": 4
}
