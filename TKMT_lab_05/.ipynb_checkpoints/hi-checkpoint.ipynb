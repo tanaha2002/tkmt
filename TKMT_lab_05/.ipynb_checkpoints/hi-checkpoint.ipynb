{
 "cells": [
  {
   "cell_type": "code",
   "execution_count": 45,
   "metadata": {},
   "outputs": [],
   "source": [
    "#import library\n",
    "# Import các thư viện thông dụng\n",
    "import numpy as np\n",
    "import pandas as pd\n",
    "import matplotlib.pyplot as plt\n",
    "\n",
    "# Import các distribution packages từ thư viện scipy\n",
    "from scipy.stats import binom\n",
    "from scipy.stats import poisson\n",
    "from scipy.stats import norm\n",
    "from scipy.stats import t"
   ]
  },
  {
   "cell_type": "markdown",
   "metadata": {},
   "source": [
    "# Bài Tập"
   ]
  },
  {
   "cell_type": "markdown",
   "metadata": {},
   "source": [
    "## Bài 1\n",
    "\n",
    "Thực hiện mô phỏng phép thử tung một con xúc sắc cân đối đồng chất 5000 lần. Dựa vào kết quả của phép thử tính các giá trị xác suất sau:\n",
    "\n",
    "a. Xác suất để xuất hiện mặt 4 chấm\n",
    "\n",
    "b. Xác suất để xuất hiện mặt lớn hơn hoặc bằng 4 chấm\n",
    "\n",
    "c. Giả sử biết rằng số chấm xuất hiện lớn hơn hoặc bằng 4. Tìm xác suất để mặt 6 chấm xuất hiện"
   ]
  },
  {
   "cell_type": "markdown",
   "metadata": {},
   "source": [
    "n =10\n",
    "outcome = np.random.randint(2,size=n)\n",
    "unique_values, freq_x = np.unique(outcome, return_counts=True)\n",
    "pmf = freq_x  / len(outcome)\n",
    "dist_table = np.column_stack([unique_values, pmf])\n",
    "print(\"BẢNG PHÂN PHỐI XÁC SUẤT\")\n",
    "print(dist_table)\n",
    "print(outcome)"
   ]
  },
  {
   "cell_type": "code",
   "execution_count": 105,
   "metadata": {},
   "outputs": [
    {
     "name": "stdout",
     "output_type": "stream",
     "text": [
      "số lầng xuất hiện mặt 4 chấm: 0.1614\n",
      "BẢNG PHÂN PHỐI XÁC SUẤT\n",
      "[[1.     0.176 ]\n",
      " [2.     0.1658]\n",
      " [3.     0.1666]\n",
      " [4.     0.1624]\n",
      " [5.     0.1614]\n",
      " [6.     0.1678]]\n"
     ]
    }
   ],
   "source": [
    "#a. Xác suất để xuất hiện mặt 4 chấm\n",
    "n = 5000\n",
    "outcome = np.random.randint(6, size=n, dtype = int) +1\n",
    "outcome\n",
    "unique_values, freq_x = np.unique(outcome, return_counts=True)\n",
    "pmf = freq_x  / len(outcome)\n",
    "print(f\"số lầng xuất hiện mặt 4 chấm: {pmf[4]}\")\n",
    "\n",
    "dist_table = np.column_stack([unique_values, pmf])\n",
    "print(\"BẢNG PHÂN PHỐI XÁC SUẤT\")\n",
    "print(dist_table)"
   ]
  },
  {
   "cell_type": "code",
   "execution_count": 109,
   "metadata": {},
   "outputs": [
    {
     "data": {
      "text/plain": [
       "0.49160000000000004"
      ]
     },
     "execution_count": 109,
     "metadata": {},
     "output_type": "execute_result"
    }
   ],
   "source": [
    "#Xác suất để xuất hiện mặt lớn hơn hoặc bằng 4 chấm\n",
    "cdf = np.cumsum(pmf)\n",
    "p_lon_hon_4 = 1-cdf[2]\n",
    "p_lon_hon_4"
   ]
  },
  {
   "cell_type": "code",
   "execution_count": 112,
   "metadata": {},
   "outputs": [
    {
     "data": {
      "text/plain": [
       "0.34133441822620014"
      ]
     },
     "execution_count": 112,
     "metadata": {},
     "output_type": "execute_result"
    }
   ],
   "source": [
    "# c. Giả sử biết rằng số chấm xuất hiện lớn hơn hoặc bằng 4. Tìm xác suất để mặt 6 chấm xuất hiện\n",
    "res = pmf[5]/p_lon_hon_4\n",
    "res"
   ]
  },
  {
   "cell_type": "markdown",
   "metadata": {},
   "source": [
    "## Bài 2\n",
    "\n",
    "Một bài thi trắc nghiệm gồm 10 câu hỏi, mỗi câu có 4 phương án trả lời trong đó chỉ có một phương án đúng. Giả sử Nam không học bài và làm bài bằng cách chọn ngẫu nhiên các đáp án. Gọi X là số câu trả lời đúng của Nam. Tính E(X) và Var(X)"
   ]
  },
  {
   "cell_type": "code",
   "execution_count": 162,
   "metadata": {
    "scrolled": true
   },
   "outputs": [
    {
     "data": {
      "text/plain": [
       "array(1.875)"
      ]
     },
     "execution_count": 162,
     "metadata": {},
     "output_type": "execute_result"
    }
   ],
   "source": [
    "x = binom(10,0.25)\n",
    "idx = np.linspace(0,10,11)\n",
    "df = pd.Series(x.pmf(idx),idx)\n",
    "# print(f\"E(x): {x.mean()}\")\n",
    "# print(f\"Var(x): {x.var()}\")\n",
    "# print(\"Bảng phân phối tầng suất số câu đúng: \")\n",
    "# print(df)\n",
    "mean, var = binom.stats(10, 0.25)\n",
    "var"
   ]
  },
  {
   "cell_type": "markdown",
   "metadata": {},
   "source": [
    "## Bài 3\n",
    "\n",
    "Một trung tâm bưu điện nhận được 3 cuộc gọi điện thoại mỗi phút. Tính xác suất để trung tâm nhận được 1 cuộc gọi, 2 cuộc gọi, 3 cuộc gọi trong vòng một phút biết số cuộc gọi trong một phút có phân phối Poisson."
   ]
  },
  {
   "cell_type": "markdown",
   "metadata": {},
   "source": [
    "X là số cuộc gọi trong một phút. Theo đề X ~ $P(\\lambda)$\n",
    "\n",
    "$f(1) = P(X = 1) = 3^1. \\frac{e^{-3}}{1} = 0.149$\n",
    "\n",
    "$f(2) = P(X = 2) = 3^2. \\frac{e^{-3}}{2!} = 0.224$\n",
    "\n",
    "$f(3) = P(X = 3) = 3^3. \\frac{e^{-3}}{3!} = 0.224$"
   ]
  },
  {
   "cell_type": "code",
   "execution_count": 130,
   "metadata": {},
   "outputs": [
    {
     "name": "stdout",
     "output_type": "stream",
     "text": [
      "x:  range(1, 10)\n",
      "y:  [0.14936121 0.22404181 0.22404181 0.16803136 0.10081881 0.05040941\n",
      " 0.02160403 0.00810151 0.0027005 ]\n"
     ]
    }
   ],
   "source": [
    "# Giải bằng python\n",
    "x = range(1,10)\n",
    "y = poisson.pmf(x, mu=3)\n",
    "print('x: ', x)\n",
    "print('y: ', y)"
   ]
  },
  {
   "cell_type": "markdown",
   "metadata": {},
   "source": [
    "## Bài 4\n",
    "\n",
    "Trọng lượng (đơn vị gam) của một loại trái cây có phân phối chuẩn với µ = 500 (gam) gam và  σ2=16(𝑔𝑎𝑚2) . Trái cây thu hoạch được phân loại theo trọng lượng như sau:\n",
    "\n",
    "Loại 1: trên 505 gam\n",
    "\n",
    "Loại 2: từ 495 – 505 gam\n",
    "\n",
    "Loại 3: dười 495 gam\n",
    "\n",
    "Hãy tính tỷ lệ của mỗi loại."
   ]
  },
  {
   "cell_type": "code",
   "execution_count": 133,
   "metadata": {},
   "outputs": [],
   "source": [
    "mu = 500\n",
    "sigma = 4"
   ]
  },
  {
   "cell_type": "code",
   "execution_count": 134,
   "metadata": {},
   "outputs": [],
   "source": [
    "norm_tren_505 = 1 - norm.cdf(505, loc=mu, scale=sigma)"
   ]
  },
  {
   "cell_type": "code",
   "execution_count": 135,
   "metadata": {},
   "outputs": [
    {
     "data": {
      "text/plain": [
       "0.7887004526662893"
      ]
     },
     "execution_count": 135,
     "metadata": {},
     "output_type": "execute_result"
    }
   ],
   "source": [
    "norm_495 = norm.cdf(495, loc=mu, scale=sigma)\n",
    "norm_505 = norm.cdf(505, loc=mu, scale=sigma)\n",
    "norm_505 - norm_495"
   ]
  },
  {
   "cell_type": "code",
   "execution_count": 136,
   "metadata": {},
   "outputs": [
    {
     "data": {
      "text/plain": [
       "0.10564977366685535"
      ]
     },
     "execution_count": 136,
     "metadata": {},
     "output_type": "execute_result"
    }
   ],
   "source": [
    "norm_495"
   ]
  }
 ],
 "metadata": {
  "kernelspec": {
   "display_name": "Python 3",
   "language": "python",
   "name": "python3"
  },
  "language_info": {
   "codemirror_mode": {
    "name": "ipython",
    "version": 3
   },
   "file_extension": ".py",
   "mimetype": "text/x-python",
   "name": "python",
   "nbconvert_exporter": "python",
   "pygments_lexer": "ipython3",
   "version": "3.8.5"
  }
 },
 "nbformat": 4,
 "nbformat_minor": 4
}
