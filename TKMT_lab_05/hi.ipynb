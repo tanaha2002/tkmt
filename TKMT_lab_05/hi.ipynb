{
 "cells": [
  {
   "cell_type": "code",
   "execution_count": 1,
   "metadata": {},
   "outputs": [],
   "source": [
    "#import library\n",
    "# Import các thư viện thông dụng\n",
    "import numpy as np\n",
    "import pandas as pd\n",
    "import matplotlib.pyplot as plt\n",
    "\n",
    "# Import các distribution packages từ thư viện scipy\n",
    "from scipy.stats import binom\n",
    "from scipy.stats import poisson\n",
    "from scipy.stats import norm\n",
    "from scipy.stats import t"
   ]
  },
  {
   "cell_type": "markdown",
   "metadata": {},
   "source": [
    "# Bài Tập"
   ]
  },
  {
   "cell_type": "markdown",
   "metadata": {},
   "source": [
    "## Bài 1\n",
    "\n",
    "Thực hiện mô phỏng phép thử tung một con xúc sắc cân đối đồng chất 5000 lần. Dựa vào kết quả của phép thử tính các giá trị xác suất sau:\n",
    "\n",
    "a. Xác suất để xuất hiện mặt 4 chấm\n",
    "\n",
    "b. Xác suất để xuất hiện mặt lớn hơn hoặc bằng 4 chấm\n",
    "\n",
    "c. Giả sử biết rằng số chấm xuất hiện lớn hơn hoặc bằng 4. Tìm xác suất để mặt 6 chấm xuất hiện"
   ]
  },
  {
   "cell_type": "code",
   "execution_count": 79,
   "metadata": {},
   "outputs": [
    {
     "data": {
      "text/plain": [
       "0.07812499999999983"
      ]
     },
     "execution_count": 79,
     "metadata": {},
     "output_type": "execute_result"
    }
   ],
   "source": [
    "#a/\n",
    "x = binom(6,)"
   ]
  },
  {
   "cell_type": "markdown",
   "metadata": {},
   "source": [
    "## Bài 2\n",
    "\n",
    "Một bài thi trắc nghiệm gồm 10 câu hỏi, mỗi câu có 4 phương án trả lời trong đó chỉ có một phương án đúng. Giả sử Nam không học bài và làm bài bằng cách chọn ngẫu nhiên các đáp án. Gọi X là số câu trả lời đúng của Nam. Tính E(X) và Var(X)"
   ]
  },
  {
   "cell_type": "code",
   "execution_count": 164,
   "metadata": {
    "scrolled": true
   },
   "outputs": [
    {
     "name": "stdout",
     "output_type": "stream",
     "text": [
      "E(x): 2.5\n",
      "Var(x): 1.875\n",
      "Bảng phân phối tầng suất số câu đúng: \n",
      "0.0     5.631351e-02\n",
      "1.0     1.877117e-01\n",
      "2.0     2.815676e-01\n",
      "3.0     2.502823e-01\n",
      "4.0     1.459980e-01\n",
      "5.0     5.839920e-02\n",
      "6.0     1.622200e-02\n",
      "7.0     3.089905e-03\n",
      "8.0     3.862381e-04\n",
      "9.0     2.861023e-05\n",
      "10.0    9.536743e-07\n",
      "dtype: float64\n"
     ]
    }
   ],
   "source": [
    "x = binom(10,0.25)\n",
    "idx = np.linspace(0,10,11)\n",
    "df = pd.Series(x.pmf(idx),idx)\n",
    "print(f\"E(x): {x.mean()}\")\n",
    "print(f\"Var(x): {x.std()**2}\")\n",
    "print(\"Bảng phân phối tầng suất số câu đúng: \")\n",
    "print(df)"
   ]
  },
  {
   "cell_type": "markdown",
   "metadata": {},
   "source": [
    "## Bài 3\n",
    "\n",
    "Một trung tâm bưu điện nhận được 3 cuộc gọi điện thoại mỗi phút. Tính xác suất để trung tâm nhận được 1 cuộc gọi, 2 cuộc gọi, 3 cuộc gọi trong vòng một phút biết số cuộc gọi trong một phút có phân phối Poisson."
   ]
  },
  {
   "cell_type": "markdown",
   "metadata": {},
   "source": [
    "X là số cuộc gọi trong một phút. Theo đề X ~ $P(\\lambda)$\n",
    "\n",
    "$f(1) = P(X = 1) = 3^1. \\frac{e^{-3}}{1} = 0.149$\n",
    "\n",
    "$f(2) = P(X = 2) = 3^2. \\frac{e^{-3}}{2!} = 0.224$\n",
    "\n",
    "$f(3) = P(X = 3) = 3^3. \\frac{e^{-3}}{3!} = 0.224$"
   ]
  },
  {
   "cell_type": "code",
   "execution_count": null,
   "metadata": {},
   "outputs": [],
   "source": [
    "# Giải bằng python"
   ]
  },
  {
   "cell_type": "code",
   "execution_count": null,
   "metadata": {},
   "outputs": [],
   "source": []
  },
  {
   "cell_type": "markdown",
   "metadata": {},
   "source": [
    "## Bài 4\n",
    "\n",
    "Trọng lượng (đơn vị gam) của một loại trái cây có phân phối chuẩn với µ = 500 (gam) gam và  σ2=16(𝑔𝑎𝑚2) . Trái cây thu hoạch được phân loại theo trọng lượng như sau:\n",
    "\n",
    "Loại 1: trên 505 gam\n",
    "\n",
    "Loại 2: từ 495 – 505 gam\n",
    "\n",
    "Loại 3: dười 495 gam\n",
    "\n",
    "Hãy tính tỷ lệ của mỗi loại."
   ]
  },
  {
   "cell_type": "code",
   "execution_count": 129,
   "metadata": {},
   "outputs": [],
   "source": [
    "mu = 500\n",
    "sigma = 4"
   ]
  },
  {
   "cell_type": "code",
   "execution_count": 130,
   "metadata": {},
   "outputs": [],
   "source": [
    "norm_tren_505 = 1 - norm.cdf(505, loc=mu, scale=sigma)"
   ]
  },
  {
   "cell_type": "code",
   "execution_count": 132,
   "metadata": {},
   "outputs": [
    {
     "data": {
      "text/plain": [
       "0.7887004526662893"
      ]
     },
     "execution_count": 132,
     "metadata": {},
     "output_type": "execute_result"
    }
   ],
   "source": [
    "norm_495 = norm.cdf(495, loc=mu, scale=sigma)\n",
    "norm_505 = norm.cdf(505, loc=mu, scale=sigma)\n",
    "norm_505 - norm_495"
   ]
  },
  {
   "cell_type": "code",
   "execution_count": 133,
   "metadata": {},
   "outputs": [
    {
     "data": {
      "text/plain": [
       "0.10564977366685535"
      ]
     },
     "execution_count": 133,
     "metadata": {},
     "output_type": "execute_result"
    }
   ],
   "source": [
    "norm_495"
   ]
  }
 ],
 "metadata": {
  "kernelspec": {
   "display_name": "Python 3 (ipykernel)",
   "language": "python",
   "name": "python3"
  },
  "language_info": {
   "codemirror_mode": {
    "name": "ipython",
    "version": 3
   },
   "file_extension": ".py",
   "mimetype": "text/x-python",
   "name": "python",
   "nbconvert_exporter": "python",
   "pygments_lexer": "ipython3",
   "version": "3.10.1"
  }
 },
 "nbformat": 4,
 "nbformat_minor": 4
}
